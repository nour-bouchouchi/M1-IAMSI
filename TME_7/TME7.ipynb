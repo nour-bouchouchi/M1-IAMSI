{
 "cells": [
  {
   "cell_type": "markdown",
   "metadata": {},
   "source": [
    "IAMSI -- 2022-2023\n",
    "--------\n",
    "\n",
    "\n",
    "# TME 07: Règles d'association"
   ]
  },
  {
   "cell_type": "markdown",
   "metadata": {},
   "source": [
    "<font color=\"RED\" size=\"+1\">**[Q]**</font> **Indiquer dans la boîte ci-dessous vos noms et prénoms**"
   ]
  },
  {
   "cell_type": "markdown",
   "metadata": {},
   "source": [
    "Bouchouchi Nour   \n",
    "\n",
    "Dijksman Ella"
   ]
  },
  {
   "cell_type": "markdown",
   "metadata": {},
   "source": [
    "## Présentation"
   ]
  },
  {
   "cell_type": "markdown",
   "metadata": {},
   "source": [
    "### But de ce TME\n",
    "\n",
    "Ce TME a pour but de réaliser une implémentation *intuitive* de l'algorithme **apriori** afin de la comparer à une version efficace de cet algorithme, puis à une implémentation de l'algorithme **fp-growth**.\n"
   ]
  },
  {
   "cell_type": "markdown",
   "metadata": {},
   "source": [
    "#### Contenu de l'archive téléchargée\n",
    "\n",
    "Une fois détarée, l'archive **tme-07.tgz** crée le répertoire <code>tme09</code> contenant :\n",
    "- un répertoire <code>dataset</code> contenant des bases d'exemples pour tester les algorithmes\n",
    "- deux fichiers exécutables (Linux): <code>apriori32</code> et <code>fpgrowth32</code> (ces 2 programmes ont été développés par Christian Borgelt, plus d'infos sur sa page web  https://www.borgelt.net/software.html). Ces programmes seront utilisés en fin de séance. Si vous n'êtes pas sous Linux, vous pouvez trouver une version pour votre OS ici:\n",
    "    - <code>apriori</code> : https://borgelt.net/apriori.html\n",
    "    - <code>fpgrowth</code> : https://borgelt.net/fpgrowth.html\n",
    "\n"
   ]
  },
  {
   "cell_type": "markdown",
   "metadata": {},
   "source": [
    "#### Compte-rendu de la séance\n",
    "\n",
    "Le compte-rendu de ce TME se compose de ce notebook complété par les réponses aux questions posées.\n",
    "\n",
    "Ce compte-rendu est à poster : \n",
    "- à l'issue de la séance, un premier envoi doit être **obligatoirement** fait avec ce que vous avez réalisé\n",
    "- si nécessaire, un complément peut être envoyé **au plus tard avant le début de la prochaine séance**.\n"
   ]
  },
  {
   "cell_type": "markdown",
   "metadata": {},
   "source": [
    "<font color=\"RED\">IMPORTANT: soumission de votre fichier final</font>\n",
    "\n",
    "**Nom à donner au fichier à poster** : *Nom1_Nom2.ipynb* \n",
    "- *Nom1* et *Nom2* : noms des membres du binôme\n",
    "- ne pas compresser ou faire une archive: envoyer le notebook tel quel, éventuellement, si vous avez d'autres fichiers à envoyer, les  joindre au message."
   ]
  },
  {
   "cell_type": "code",
   "execution_count": 1,
   "metadata": {},
   "outputs": [
    {
     "data": {
      "text/plain": [
       "['/users/nfs/Etu1/21205961/Documents/IAMSI/tme7',\n",
       " '/usr/lib/python39.zip',\n",
       " '/usr/lib/python3.9',\n",
       " '/usr/lib/python3.9/lib-dynload',\n",
       " '',\n",
       " '/usr/local/lib/python3.9/dist-packages',\n",
       " '/usr/lib/python3/dist-packages']"
      ]
     },
     "execution_count": 1,
     "metadata": {},
     "output_type": "execute_result"
    }
   ],
   "source": [
    "# Vérification de la version de Python utilisée:\n",
    "import sys\n",
    "sys.path # le path doit contenir python3.5 ou une version supérieure"
   ]
  },
  {
   "cell_type": "markdown",
   "metadata": {},
   "source": [
    "## Traitement d'une base d'apprentissage\n",
    "\n",
    "\n",
    "### Chargement de la base\n",
    "\n",
    "On commence par travailler sur la base exemple du fichier <code>exemple-1.txt</code> (fourni dans le répertoire datasets). \n",
    "\n",
    "Ce fichier contient une transaction par ligne. Chaque transaction est composée d'un groupe d'items séparés par un espace.\n",
    "\n",
    "On peut charger en Python ce fichier par la commande suivante (le répertoire datasets doit se trouver dans le répertoire courant) :"
   ]
  },
  {
   "cell_type": "code",
   "execution_count": 2,
   "metadata": {
    "scrolled": true
   },
   "outputs": [
    {
     "name": "stdout",
     "output_type": "stream",
     "text": [
      "ligne 1 : ['a', 'b', 'c']\n",
      "ligne 2 : ['a', 'd', 'e']\n",
      "ligne 3 : ['b', 'c', 'd']\n",
      "ligne 4 : ['a', 'b', 'c', 'd']\n",
      "ligne 5 : ['b', 'c']\n",
      "ligne 6 : ['a', 'b', 'd']\n",
      "ligne 7 : ['d', 'e']\n",
      "ligne 8 : ['a', 'b', 'c', 'd']\n",
      "ligne 9 : ['c', 'd', 'e']\n",
      "ligne 10 : ['a', 'b', 'c']\n"
     ]
    }
   ],
   "source": [
    "import csv\n",
    "with open('datasets/exemple-1.txt', 'r') as fichier:\n",
    "    lecteur = csv.reader(fichier, delimiter=' ')\n",
    "    i = 0\n",
    "    for ligne in lecteur:\n",
    "        i += 1\n",
    "        print('ligne',i,':',ligne)"
   ]
  },
  {
   "cell_type": "markdown",
   "metadata": {},
   "source": [
    "<font color=\"RED\" size=\"+1\">**[Q]**</font>  Ecrire la fonction <code>chargeBase</code> qui prend en argument un nom de fichier, respectant le format énoncé plus haut, le lit et rend un dictionnaire dont les clés sont les numéros de ligne (une transaction) et les valeurs associées les itemsets correspondants représentés sous forme d'ensembles Python (des <code>set()</code> donc).\n",
    "\n",
    "Ici, il est plus intéressant de représenter un itemset comme un ensemble Python plutôt que comme une liste. Il est ainsi plus facile de réaliser des comparaisons d'ensembles ou des ajouts d'éléments.\n",
    "\n",
    "Dans le reste de ce document, on appelle **BASE** un dictionnaire de ce type."
   ]
  },
  {
   "cell_type": "code",
   "execution_count": 3,
   "metadata": {},
   "outputs": [],
   "source": [
    "def chargeBase(file, delimiteur= ' '):\n",
    "    with open(file, 'r') as fichier:\n",
    "        lecteur = csv.reader(fichier, delimiter=delimiteur)\n",
    "        base = dict()\n",
    "        i = 0\n",
    "        for ligne in lecteur:\n",
    "            i += 1\n",
    "            base[i] = set(ligne)\n",
    "        return base"
   ]
  },
  {
   "cell_type": "code",
   "execution_count": 4,
   "metadata": {},
   "outputs": [
    {
     "name": "stdout",
     "output_type": "stream",
     "text": [
      "Résultat du chargement de 'exemple-1.txt', on obtient : \n"
     ]
    },
    {
     "data": {
      "text/plain": [
       "{1: {'a', 'b', 'c'},\n",
       " 2: {'a', 'd', 'e'},\n",
       " 3: {'b', 'c', 'd'},\n",
       " 4: {'a', 'b', 'c', 'd'},\n",
       " 5: {'b', 'c'},\n",
       " 6: {'a', 'b', 'd'},\n",
       " 7: {'d', 'e'},\n",
       " 8: {'a', 'b', 'c', 'd'},\n",
       " 9: {'c', 'd', 'e'},\n",
       " 10: {'a', 'b', 'c'}}"
      ]
     },
     "execution_count": 4,
     "metadata": {},
     "output_type": "execute_result"
    }
   ],
   "source": [
    "print(\"Résultat du chargement de 'exemple-1.txt', on obtient : \")\n",
    "Base1 = chargeBase('datasets/exemple-1.txt')\n",
    "Base1"
   ]
  },
  {
   "cell_type": "markdown",
   "metadata": {},
   "source": [
    "On utilise la variable **Base1** dans la suite pour faire référence à cette base."
   ]
  },
  {
   "cell_type": "markdown",
   "metadata": {},
   "source": [
    "## Itemsets et support"
   ]
  },
  {
   "cell_type": "markdown",
   "metadata": {},
   "source": [
    "<font color=\"RED\" size=\"+1\">**[Q]**</font>  Ecrire la fonction <code>noms_items</code> qui prend en argument une BASE et rend l'ensemble des items qui composent cette base."
   ]
  },
  {
   "cell_type": "code",
   "execution_count": 5,
   "metadata": {},
   "outputs": [],
   "source": [
    "def noms_items(base):\n",
    "    set_items = set()\n",
    "    for value in base.values():\n",
    "        set_items = set_items|value\n",
    "    return set_items"
   ]
  },
  {
   "cell_type": "code",
   "execution_count": 6,
   "metadata": {},
   "outputs": [
    {
     "name": "stdout",
     "output_type": "stream",
     "text": [
      "Pour la BASE précédente :\n"
     ]
    },
    {
     "data": {
      "text/plain": [
       "{'a', 'b', 'c', 'd', 'e'}"
      ]
     },
     "execution_count": 6,
     "metadata": {},
     "output_type": "execute_result"
    }
   ],
   "source": [
    "print(\"Pour la BASE précédente :\")\n",
    "noms_items(Base1)"
   ]
  },
  {
   "cell_type": "markdown",
   "metadata": {},
   "source": [
    "<font color=\"RED\" size=\"+1\">**[Q]**</font>  Ecrire la fonction <code>singletons</code> qui prend en argument une BASE et rend la liste des itemsets de taille 1 obtenus à partir de cette base.\n",
    "\n",
    "*Remarque*: attention, ici on utilise une **liste** pour stocker les itemsets (un itemset est un ensemble Python) car il n'est pas possible en Python de créer des ensembles d'ensembles.\n"
   ]
  },
  {
   "cell_type": "code",
   "execution_count": 7,
   "metadata": {},
   "outputs": [],
   "source": [
    "def singletons(base):\n",
    "    items = noms_items(base)\n",
    "    singletons = []\n",
    "    for item in items: \n",
    "        singletons.append({item})\n",
    "    return singletons"
   ]
  },
  {
   "cell_type": "code",
   "execution_count": 8,
   "metadata": {},
   "outputs": [
    {
     "name": "stdout",
     "output_type": "stream",
     "text": [
      "Exemple: singletons(Base1) rend :\n"
     ]
    },
    {
     "data": {
      "text/plain": [
       "[{'d'}, {'a'}, {'b'}, {'e'}, {'c'}]"
      ]
     },
     "execution_count": 8,
     "metadata": {},
     "output_type": "execute_result"
    }
   ],
   "source": [
    "print(\"Exemple: singletons(Base1) rend :\")\n",
    "singletons(Base1)"
   ]
  },
  {
   "cell_type": "markdown",
   "metadata": {},
   "source": [
    "<font color=\"RED\" size=\"+1\">**[Q]**</font>  Ecrire la fonction <code>comptage</code> qui, pour une BASE et un itemset donnés, rend le nombre de transactions de BASE qui contiennent cet itemset."
   ]
  },
  {
   "cell_type": "code",
   "execution_count": 9,
   "metadata": {},
   "outputs": [],
   "source": [
    "def comptage(base,itemset):\n",
    "    cpt = 0\n",
    "    for item in base.values():\n",
    "        if itemset<=item:\n",
    "            cpt+=1\n",
    "    return cpt"
   ]
  },
  {
   "cell_type": "code",
   "execution_count": 10,
   "metadata": {},
   "outputs": [
    {
     "name": "stdout",
     "output_type": "stream",
     "text": [
      "Comptage de l'itemset {'a','b','c'} dans la base précédente : \n",
      "comptage(Base1,{'a','b','c'}) rend la valeur 4\n"
     ]
    }
   ],
   "source": [
    "print(\"Comptage de l'itemset {'a','b','c'} dans la base précédente : \")\n",
    "print(\"comptage(Base1,{'a','b','c'}) rend la valeur \"+str(comptage(Base1,{'a','b','c'})))"
   ]
  },
  {
   "cell_type": "markdown",
   "metadata": {},
   "source": [
    "<font color=\"RED\" size=\"+1\">**[Q]**</font>  Ecrire la fonction <code>support</code> qui, pour une BASE et un itemset donnés, rend le support de cet itemset dans la BASE."
   ]
  },
  {
   "cell_type": "code",
   "execution_count": 11,
   "metadata": {},
   "outputs": [],
   "source": [
    "def support(base, itemset):\n",
    "    return comptage(base,itemset)/len(base)"
   ]
  },
  {
   "cell_type": "code",
   "execution_count": 12,
   "metadata": {},
   "outputs": [
    {
     "name": "stdout",
     "output_type": "stream",
     "text": [
      "Support de l'itemset {'a','b','c'} dans la base précédente : 0.4\n"
     ]
    }
   ],
   "source": [
    "print(\"Support de l'itemset {'a','b','c'} dans la base précédente : \" \\\n",
    "      +str(support(Base1,{'a','b','c'})))"
   ]
  },
  {
   "cell_type": "markdown",
   "metadata": {},
   "source": [
    "## Implémentation de l'algorithme a-priori\n",
    "\n",
    "Dans cette partie, une implémentation de la partie de construction des itemsets fréquents de l'algorithme a-priori est réalisée. On ne s'intéresse pas dans cette question à la génération des règles d'association (mais cela peut être fait en complément).\n",
    "\n",
    "Votre programme doit pouvoir s'appliquer aux bases fournies dans le répertoire *datasets* (éventuellement, sur au moins les 10 premiers exemples de la base mushrooms)."
   ]
  },
  {
   "cell_type": "markdown",
   "metadata": {},
   "source": [
    "<font color=\"RED\" size=\"+1\">**[Q]**</font>  Ecrire la fonction <code>apriori_gen</code> qui prend en argument une liste d'itemsets de même longueur $k$, applique l'algorithme apriori-gen pour rendre la liste des itemsets candidats de longueurs $k+1$.\n"
   ]
  },
  {
   "cell_type": "code",
   "execution_count": 13,
   "metadata": {},
   "outputs": [],
   "source": [
    "def apriori_gen(itemsets):\n",
    "    k = len(itemsets[0])\n",
    "    C = [f1|f2 for f1 in itemsets for f2 in itemsets if len(f1|f2)==k+1 ]\n",
    "\n",
    "    Res = []\n",
    "    for c in C:\n",
    "        if c not in Res : \n",
    "            keep = True\n",
    "            for i in c: \n",
    "                if c-{i} not in itemsets : \n",
    "                    keep = False\n",
    "                    break\n",
    "            if keep : \n",
    "                Res.append(c)\n",
    "                \n",
    "    return Res"
   ]
  },
  {
   "cell_type": "code",
   "execution_count": 14,
   "metadata": {},
   "outputs": [
    {
     "name": "stdout",
     "output_type": "stream",
     "text": [
      "Exemple: apriori_gen([{'a'}, {'b'}, {'c'}, {'d'}]) rend \n",
      "[{'b', 'a'}, {'a', 'c'}, {'d', 'a'}, {'b', 'c'}, {'b', 'd'}, {'d', 'c'}]\n",
      "\n",
      "Exemple: apriori_gen([{'a','b'},{'a','d'},{'b','d'},{'b','c'},{'c','d'}]) rend \n",
      "[{'b', 'd', 'a'}, {'b', 'd', 'c'}]\n"
     ]
    }
   ],
   "source": [
    "print(\"Exemple: apriori_gen([{'a'}, {'b'}, {'c'}, {'d'}]) rend \")\n",
    "print(apriori_gen([{'a'}, {'b'}, {'c'}, {'d'}]))\n",
    "\n",
    "print(\"\\nExemple: apriori_gen([{'a','b'},{'a','d'},{'b','d'},{'b','c'},{'c','d'}]) rend \")\n",
    "print(apriori_gen([{'a', 'b'}, {'a', 'd'}, {'b', 'd'}, {'b', 'c'}, {'c', 'd'}]))"
   ]
  },
  {
   "cell_type": "markdown",
   "metadata": {},
   "source": [
    "<font color=\"RED\" size=\"+1\">**[Q]**</font>  Ecrire la fonction <code>apriori</code> qui prend en argument une BASE et une valeur réelle comprise entre 0 et 1, et qui rend une liste de tuples dont le premier élément est un itemset trouvé et le deuxième élément est la valeur de support correspondante."
   ]
  },
  {
   "cell_type": "code",
   "execution_count": 15,
   "metadata": {},
   "outputs": [],
   "source": [
    "def apriori(base, minsup):\n",
    "    Ck = singletons(base)\n",
    "    F = []\n",
    "    while Ck!=[] :\n",
    "        Fk = []\n",
    "        Fk_supp = []\n",
    "        for c in Ck : \n",
    "            supp = support(base, c)\n",
    "            if supp>=minsup:\n",
    "                Fk_supp.append((c,supp))\n",
    "                Fk.append(c)\n",
    "                \n",
    "        F.extend(Fk_supp)\n",
    "        if Fk != []:\n",
    "            Ck = apriori_gen(Fk)\n",
    "        else :\n",
    "            Ck = []\n",
    "    return F"
   ]
  },
  {
   "cell_type": "code",
   "execution_count": 16,
   "metadata": {},
   "outputs": [
    {
     "name": "stdout",
     "output_type": "stream",
     "text": [
      "Exemple: apriori(Base1, 0.3]) rend \n",
      "[({'d'}, 0.7), ({'a'}, 0.6), ({'b'}, 0.7), ({'e'}, 0.3), ({'c'}, 0.7), ({'d', 'a'}, 0.4), ({'b', 'd'}, 0.4), ({'d', 'e'}, 0.3), ({'d', 'c'}, 0.4), ({'b', 'a'}, 0.5), ({'a', 'c'}, 0.4), ({'b', 'c'}, 0.6), ({'b', 'd', 'a'}, 0.3), ({'b', 'd', 'c'}, 0.3), ({'b', 'a', 'c'}, 0.4)]\n"
     ]
    }
   ],
   "source": [
    "print(\"Exemple: apriori(Base1, 0.3]) rend \")\n",
    "print(apriori(Base1,0.3))"
   ]
  },
  {
   "cell_type": "markdown",
   "metadata": {},
   "source": [
    "## Expérimentations"
   ]
  },
  {
   "cell_type": "markdown",
   "metadata": {},
   "source": [
    "### Vérification avec la base du TD\n",
    "\n",
    "Utiliser la fonction <code>apriori</code> avec la base de transactions du TD afin de vérifier que les itemsets obtenus sont corrects."
   ]
  },
  {
   "cell_type": "code",
   "execution_count": 17,
   "metadata": {},
   "outputs": [
    {
     "data": {
      "text/plain": [
       "{1: {'a', 'b', 'd', 'e'},\n",
       " 2: {'b', 'c', 'd'},\n",
       " 3: {'a', 'b', 'd', 'e'},\n",
       " 4: {'a', 'c', 'd', 'e'},\n",
       " 5: {'b', 'c', 'd', 'e'},\n",
       " 6: {'b', 'd', 'e'},\n",
       " 7: {'c', 'd'},\n",
       " 8: {'a', 'b', 'c'},\n",
       " 9: {'a', 'd', 'e'},\n",
       " 10: {'b', 'd'}}"
      ]
     },
     "execution_count": 17,
     "metadata": {},
     "output_type": "execute_result"
    }
   ],
   "source": [
    "BaseTD = chargeBase('datasets/base_td.txt')\n",
    "BaseTD"
   ]
  },
  {
   "cell_type": "code",
   "execution_count": 18,
   "metadata": {},
   "outputs": [
    {
     "name": "stdout",
     "output_type": "stream",
     "text": [
      "Exemple: apriori(BaseTD, 0.3) rend \n",
      "[({'d'}, 0.9), ({'a'}, 0.5), ({'b'}, 0.7), ({'e'}, 0.6), ({'c'}, 0.5), ({'d', 'a'}, 0.4), ({'b', 'd'}, 0.6), ({'d', 'e'}, 0.6), ({'d', 'c'}, 0.4), ({'b', 'a'}, 0.3), ({'e', 'a'}, 0.4), ({'b', 'e'}, 0.4), ({'b', 'c'}, 0.3), ({'d', 'e', 'a'}, 0.4), ({'b', 'd', 'e'}, 0.4)]\n"
     ]
    }
   ],
   "source": [
    "print(\"Exemple: apriori(BaseTD, 0.3) rend \")\n",
    "print(apriori(BaseTD,0.3))"
   ]
  },
  {
   "cell_type": "markdown",
   "metadata": {},
   "source": [
    "### Comparaisons avec les implémentations apriori et fpgrowth"
   ]
  },
  {
   "cell_type": "markdown",
   "metadata": {},
   "source": [
    "<font color=\"RED\" size=\"+1\">**[Q]**</font>  Tester votre fonction <code>apriori</code> sur les 3 bases données dans datasets et confronter les résultats obtenus avec ceux fournis par l'exécutable <code>apriori</code>."
   ]
  },
  {
   "cell_type": "code",
   "execution_count": 19,
   "metadata": {},
   "outputs": [
    {
     "name": "stdout",
     "output_type": "stream",
     "text": [
      "Résultat du chargement de 'mushrooms.txt', on obtient : \n",
      "8416  transactions.\n"
     ]
    }
   ],
   "source": [
    "print(\"Résultat du chargement de 'mushrooms.txt', on obtient : \")\n",
    "Base_mushrooms = chargeBase('datasets/mushrooms.txt',delimiteur=',')\n",
    "#Base_mushrooms\n",
    "print(len(Base_mushrooms),' transactions.')"
   ]
  },
  {
   "cell_type": "code",
   "execution_count": 20,
   "metadata": {
    "scrolled": false
   },
   "outputs": [
    {
     "name": "stdout",
     "output_type": "stream",
     "text": [
      "Pour la BASE précédente :\n",
      "Exemple: singletons(Base_mushrooms) rend :\n"
     ]
    }
   ],
   "source": [
    "print(\"Pour la BASE précédente :\")\n",
    "noms_items(Base_mushrooms)\n",
    "print(\"Exemple: singletons(Base_mushrooms) rend :\")\n",
    "#singletons(Base_mushrooms)"
   ]
  },
  {
   "cell_type": "code",
   "execution_count": 21,
   "metadata": {},
   "outputs": [
    {
     "name": "stdout",
     "output_type": "stream",
     "text": [
      "[({'ONE'}, 0.9230038022813688), ({'FREE'}, 0.9743346007604563), ({'PARTIAL'}, 1.0), ({'WHITE'}, 0.9771863117870723), ({'FREE', 'ONE'}, 0.9001901140684411), ({'ONE', 'PARTIAL'}, 0.9230038022813688), ({'ONE', 'WHITE'}, 0.9001901140684411), ({'FREE', 'PARTIAL'}, 0.9743346007604563), ({'FREE', 'WHITE'}, 0.9743346007604563), ({'WHITE', 'PARTIAL'}, 0.9771863117870723), ({'FREE', 'ONE', 'PARTIAL'}, 0.9001901140684411), ({'FREE', 'ONE', 'WHITE'}, 0.9001901140684411), ({'ONE', 'WHITE', 'PARTIAL'}, 0.9001901140684411), ({'FREE', 'WHITE', 'PARTIAL'}, 0.9743346007604563), ({'FREE', 'ONE', 'WHITE', 'PARTIAL'}, 0.9001901140684411)]\n"
     ]
    }
   ],
   "source": [
    "print(apriori(Base_mushrooms,0.9))"
   ]
  },
  {
   "cell_type": "code",
   "execution_count": 22,
   "metadata": {},
   "outputs": [
    {
     "name": "stdout",
     "output_type": "stream",
     "text": [
      "Résultat du chargement de 'titanic-red.csv', on obtient : \n",
      "741  transactions.\n"
     ]
    }
   ],
   "source": [
    "print(\"Résultat du chargement de 'titanic-red.csv', on obtient : \")\n",
    "Base_titanic = chargeBase('datasets/titanic-red.csv',delimiteur=',')\n",
    "print(len(Base_titanic),' transactions.')"
   ]
  },
  {
   "cell_type": "code",
   "execution_count": 23,
   "metadata": {},
   "outputs": [
    {
     "name": "stdout",
     "output_type": "stream",
     "text": [
      "Pour la BASE Titanic :\n",
      "Exemple: singletons(Base_titanic) rend :\n"
     ]
    },
    {
     "data": {
      "text/plain": [
       "[{'BournemouthEngland'},\n",
       " {'WaukeganChicagoIL'},\n",
       " {'pclass'},\n",
       " {'NewYorkNYIthacaNY'},\n",
       " {'KingwilliamstownCoCorkIrelandGlensFallsNY'},\n",
       " {'WindsorEnglandNewYorkNY'},\n",
       " {'male'},\n",
       " {'AberdeenPortlandOR'},\n",
       " {'BristolEnglandNewBritainCT'},\n",
       " {'ColumbusOH'},\n",
       " {'EnglandSacramentoCA'},\n",
       " {'NewForestEngland'},\n",
       " {'EastBridgewaterMA'},\n",
       " {'PerkinsCountySD'},\n",
       " {'Glasgow'},\n",
       " {'survived'},\n",
       " {'BarreCoWashingtonVT'},\n",
       " {'MontevideoUruguay'},\n",
       " {'BaysideQueensNY'},\n",
       " {'CopenhagenDenmark'},\n",
       " {'ChicagoIL'},\n",
       " {'StockholmSwedenWashingtonDC'},\n",
       " {'Austria'},\n",
       " {'BenningtonVT'},\n",
       " {'LondonFortByronNY'},\n",
       " {'OsloNorwayCameronWI'},\n",
       " {'KingstonSurrey'},\n",
       " {'SarniaON'},\n",
       " {'KingwilliamstownCoCorkIrelandNewYorkNY'},\n",
       " {'WalthamstowEngland'},\n",
       " {'AsarumSwedenBrooklynNY'},\n",
       " {'Liverpool'},\n",
       " {'MexicoCityMexico'},\n",
       " {'WarwickEngland'},\n",
       " {'ProvidenceRI'},\n",
       " {'ParisMontrealPQ'},\n",
       " {'AuburnNY'},\n",
       " {'ManchesterEngland'},\n",
       " {'Southampton'},\n",
       " {'WestKensingtonLondon'},\n",
       " {'Cherbourg'},\n",
       " {'BirkdaleEnglandClevelandOhio'},\n",
       " {'ElmiraNYOrangeNJ'},\n",
       " {'IlfracombeDevon'},\n",
       " {'IrelandPhiladelphiaPA'},\n",
       " {'WinnipegMN'},\n",
       " {'LondonWinnipegMB'},\n",
       " {'RuotsinphytaaFinlandNewYorkNY'},\n",
       " {'SaloFinlandAstoriaOR'},\n",
       " {'CoSligoIrelandNewYorkNY'},\n",
       " {'LittleOnnHallStaffs'},\n",
       " {'NorthEvingtonEngland'},\n",
       " {'WestonSuperMareMooseJawSK'},\n",
       " {'FinlandMinneapolisMN'},\n",
       " {'SpringfieldMA'},\n",
       " {'HamiltonON'},\n",
       " {'TorontoON'},\n",
       " {'England'},\n",
       " {'GermantownPhiladelphiaPA'},\n",
       " {'NorrlotSwedenChicagoIL'},\n",
       " {'AltdorfSwitzerland'},\n",
       " {'RotherfieldSussexEnglandEssexCoMA'},\n",
       " {'EnglandHartfordCT'},\n",
       " {'Cornwall'},\n",
       " {'CoSligoIrelandHartfordCT'},\n",
       " {'StIvesCornwallCalumetMI'},\n",
       " {'TokyoJapan'},\n",
       " {'NiceFrance'},\n",
       " {'WinnipegMB'},\n",
       " {'NewBritainCT'},\n",
       " {'PlymouthDorsetHoughtonMI'},\n",
       " {'GreenportNY'},\n",
       " {'NorwayLosAngelesCA'},\n",
       " {'ZurichSwitzerland'},\n",
       " {'BulgariaCoonRapidsIA'},\n",
       " {'BuenosAiresArgentinaNewJerseyNJ'},\n",
       " {'LondonParis'},\n",
       " {'DenmarkHillSurreyChicago'},\n",
       " {'CoClareIrelandWashingtonDC'},\n",
       " {'ParisNewYorkNY'},\n",
       " {'CologneGermany'},\n",
       " {'BathEnglandMassachusetts'},\n",
       " {'BrynMawrPA'},\n",
       " {'EnglandBenningtonVT'},\n",
       " {'CoLongfordIrelandNewYorkNY'},\n",
       " {'LowerClaptonMiddlesexorErdingtonBirmingham'},\n",
       " {'HudsonNY'},\n",
       " {'LondonVancouverBC'},\n",
       " {'BroomfieldChelmsfordEngland'},\n",
       " {'BerneSwitzerlandCentralCityIA'},\n",
       " {'YoungstownOH'},\n",
       " {'GuernseyWilmingtonDE'},\n",
       " {'StDenysSouthamptonHants'},\n",
       " {'JacksonvilleFL'},\n",
       " {'PetworthSussex'},\n",
       " {'VadsbroSwedenMinisteeMI'},\n",
       " {'DeephavenMNCedarRapidsIA'},\n",
       " {'GuernseyElizabethNJ'},\n",
       " {'Argentina'},\n",
       " {'LexingtonMA'},\n",
       " {'FinlandSudburyON'},\n",
       " {'TampicoMT'},\n",
       " {'LondonChicagoIL'},\n",
       " {'LondonStatenIslandNY'},\n",
       " {'StockholmSweden'},\n",
       " {'ForesvikNorwayPortlandND'},\n",
       " {'female'},\n",
       " {'CornwallHancockMI'},\n",
       " {'SouthamptonNewYorkNY'},\n",
       " {'BelmontMA'},\n",
       " {'TaalintehdasFinlandHobokenNJ'},\n",
       " {'SyriaNewYorkNY'},\n",
       " {'LondonBrooklynNY'},\n",
       " {'StockholmSwedenNewYork'},\n",
       " {'BristolAvonJacksonvilleFL'},\n",
       " {'WestonSuperMareSomerset'},\n",
       " {'IrelandBrooklynNY'},\n",
       " {'SwedenWorcesterMA'},\n",
       " {'SyriaYoungstownOH'},\n",
       " {'HarrowontheHillMiddlesex'},\n",
       " {'FolkstoneKentNewYorkNY'},\n",
       " {'MoscowBronxNY'},\n",
       " {'HaverfordPACooperstownNY'},\n",
       " {'SyriaFredericksburgVA'},\n",
       " {'HornseyEngland'},\n",
       " {'DeerLodgeMT'},\n",
       " {'EnglandBrooklynNY'},\n",
       " {'LondonBirmingham'},\n",
       " {'LondonEastOrangeNJ'},\n",
       " {'StLouisMO'},\n",
       " {'KontiolahtiFinlandDetroitMI'},\n",
       " {'CalgaryAB'},\n",
       " {'GuernseyEnglandEdgewoodRI'},\n",
       " {'GreensburgPA'},\n",
       " {'LondonEnglandNorfolkVA'},\n",
       " {'HalifaxNS'},\n",
       " {'SkaraSwedenRockfordIL'},\n",
       " {'PortlandOR'},\n",
       " {'MamaroneckNY'},\n",
       " {'EnglandSaltLakeCityUtah'},\n",
       " {'MilfordNH'},\n",
       " {'Queenstown'},\n",
       " {'Guernsey'},\n",
       " {'BridgwaterSomersetEngland'},\n",
       " {'MerrillWI'},\n",
       " {'Russia'},\n",
       " {'GenevaSwitzerlandRadnorPA'},\n",
       " {'Pennsylvania'},\n",
       " {'AughnacliffCoLongfordIrelandNewYorkNY'},\n",
       " {'BrunswickME'},\n",
       " {'HolleyNY'},\n",
       " {'BuffaloNY'},\n",
       " {'LimaPeru'},\n",
       " {'HuntingtonWV'},\n",
       " {'Syria'},\n",
       " {'GreenwichCT'},\n",
       " {'1st'},\n",
       " {'BrocktonMA'},\n",
       " {'GreenBayWI'},\n",
       " {'SeattleWAToledoOH'},\n",
       " {'NewarkNJ'},\n",
       " {'NewYorkNYGreenwichCT'},\n",
       " {'CornwallClearCreekCO'},\n",
       " {'DagsasSwedenFowerMN'},\n",
       " {'Portugal'},\n",
       " {'ScituateMA'},\n",
       " {'VictoriaBC'},\n",
       " {'HarrisburgPA'},\n",
       " {'TranvikFinlandNewYork'},\n",
       " {'IrelandChicagoIL'},\n",
       " {'Belfast'},\n",
       " {'WestHobokenNJ'},\n",
       " {'PenzanceCornwallAkronOH'},\n",
       " {'CapeTownSouthAfricaSeattleWA'},\n",
       " {'DetroitMI'},\n",
       " {'StreathamSurrey'},\n",
       " {'LuccaItalyCalifornia'},\n",
       " {'PlymouthEngland'},\n",
       " {'SwedenAkeleyMN'},\n",
       " {'IsleofWightEngland'},\n",
       " {'ToftaSwedenJolietIL'},\n",
       " {'PhiladelphiaPA'},\n",
       " {'SyriaOttawaON'},\n",
       " {'DorkingSurreyEngland'},\n",
       " {'CoCorkIrelandRoxburyMA'},\n",
       " {'CornwallEnglandHoughtonMI'},\n",
       " {'AlbanyNY'},\n",
       " {'MtAiryPhiladelphiaPA'},\n",
       " {'GlenRidgeNJ'},\n",
       " {'LondonEngland'},\n",
       " {'ParisHaiti'},\n",
       " {'AustriaHungary'},\n",
       " {'HartfordCT'},\n",
       " {'SwedenChicagoIL'},\n",
       " {'PomeroyWA'},\n",
       " {'MontrealPQ'},\n",
       " {'IndiaRapidCitySD'},\n",
       " {'PondersendEnglandNewDurhamNJ'},\n",
       " {'SydneyAustralia'},\n",
       " {'BournmouthEngland'},\n",
       " {'LondonNewYorkNY'},\n",
       " {'LyndhurstEngland'},\n",
       " {'CoCorkIrelandCharlestownMA'},\n",
       " {'BristolEnglandClevelandOH'},\n",
       " {'CoLimerickIrelandSherbrookePQ'},\n",
       " {'GuernseyMontclairNJand/orToledoOhio'},\n",
       " {'NewYorkNYBriarcliffManorNY'},\n",
       " {'NewYorkNYStamfordCT'},\n",
       " {'SaultStMarieON'},\n",
       " {'IrelandNewYorkNY'},\n",
       " {'OmahaNE'},\n",
       " {'EnglandPhiladelphiaPA'},\n",
       " {'AmeniaND'},\n",
       " {'LosAngelesCA'},\n",
       " {'NewYorkNY'},\n",
       " {'GunturIndiaBentonHarbourMI'},\n",
       " {'EastProvidenceRI'},\n",
       " {'BaselSwitzerland'},\n",
       " {'BrightonSussex'},\n",
       " {'EnglandNewYorkNY'},\n",
       " {'ProvoUT'},\n",
       " {'IllinoisUSA'},\n",
       " {'BrooklynNY'},\n",
       " {'SurbitonHillSurrey'},\n",
       " {'LiverpoolEnglandBedfordOH'},\n",
       " {'DowagiacMI'},\n",
       " {'RoachdaleIN'},\n",
       " {'WoodfordCountyKY'},\n",
       " {'WiltshireEnglandNiagaraFallsNY'},\n",
       " {'CornwallCamdenNJ'},\n",
       " {'YoevilEnglandCottageGroveOR'},\n",
       " {'FondduLacWI'},\n",
       " {'AustraliaFingalND'},\n",
       " {'WorcesterMA'},\n",
       " {'MontrealPQChestervilleON'},\n",
       " {'LondonEnglandMariettaOhioandMilwaukeeWI'},\n",
       " {'HongKongNewYorkNY'},\n",
       " {'CornwallHoughtonMI'},\n",
       " {'WashingtonDC'},\n",
       " {'MiddleburgHeightsOH'},\n",
       " {'BelgiumDetroitMI'},\n",
       " {'GoteborgSwedenRockfordIL'},\n",
       " {'BrooklineMA'},\n",
       " {'WestcliffonSeaEssex'},\n",
       " {'London'},\n",
       " {'SittingbourneEnglandSanDiegoCA'},\n",
       " {'DenmarkNewYorkNY'},\n",
       " {'HalesworthEngland'},\n",
       " {'MadridSpain'},\n",
       " {'SouthingtonNoankCT'},\n",
       " {'GunnislakeEnglandButteMT'},\n",
       " {'PlymouthDevonDetroitMI'},\n",
       " {'CoAthloneIrelandNewYorkNY'},\n",
       " {'WestHampsteadLondonNeepawaMB'},\n",
       " {'Greece'},\n",
       " {'BrennesNorwayNewYork'},\n",
       " {'StantonIA'},\n",
       " {'BrynMawrPAUSA'},\n",
       " {'OsloNorwayBayonneNJ'},\n",
       " {'OttawaON'},\n",
       " {'StJamesLongIslandNY'},\n",
       " {'HartfordHuntingdonshire'},\n",
       " {'NewYorkNYWashingtonDC'},\n",
       " {'HaddenfieldNJ'},\n",
       " {'VancouverBC'},\n",
       " {'KrakorydSwedenBloomingtonIL'},\n",
       " {'SouthseaHants'},\n",
       " {'BulgariaChicagoIL'},\n",
       " {'HessleYorks'},\n",
       " {'MilwaukeeWI'},\n",
       " {'SwedenWinnipegMN'},\n",
       " {'BishopstokeHantsFayetteValleyID'},\n",
       " {'RochesterNY'},\n",
       " {'BangkokThailandRosevilleIL'},\n",
       " {'embarked'},\n",
       " {'LondonMontrealPQ'},\n",
       " {'EnglandDetroitMI'},\n",
       " {'EnglandAlbionNY'},\n",
       " {'AustriaHungaryGermantownPhiladelphiaPA'},\n",
       " {'dead'},\n",
       " {'LakewoodNJ'},\n",
       " {'Paris'},\n",
       " {'ItalyPhiladelphiaPA'},\n",
       " {'home.dest'},\n",
       " {'ParisFrance'},\n",
       " {'SwindonEngland'},\n",
       " {'ElizabethNJ'},\n",
       " {'OskarshamnSwedenMinneapolisMN'},\n",
       " {'RussiaNewYorkNY'},\n",
       " {'GallipolisOhioParisNewYork'},\n",
       " {'EnglandSanFranciscoCA'},\n",
       " {'IlfordEssexWinnipegMB'},\n",
       " {'BridgeruleDevon'},\n",
       " {'RuotsinphyhtaaFinlandNewYorkNY'},\n",
       " {'DevonEnglandWichitaKS'},\n",
       " {'MyrenSwedenNewYorkNY'},\n",
       " {'StoughtonMA'},\n",
       " {'TuxedoParkNY'},\n",
       " {'StAustallCornwall'},\n",
       " {'EastOrangeNJ'},\n",
       " {'MedeltorpSwedenChicagoIL'},\n",
       " {'UpperBurmaIndiaPittsburghPA'},\n",
       " {'HelsinkiFinlandAshtabulaOhio'},\n",
       " {'BarcelonaSpainHavanaCuba'},\n",
       " {'GoteborgSwedenHuntleyIL'},\n",
       " {'TrentonNJ'},\n",
       " {'BelfastNI'},\n",
       " {'SeattleWA'},\n",
       " {'DevonportEngland'},\n",
       " {'EnglandOglesbyIL'},\n",
       " {'SpainHavanaCuba'},\n",
       " {'LakeArthurChavezCountyNM'},\n",
       " {'SomersetBernardsvilleNJ'},\n",
       " {'FinlandWashingtonDC'},\n",
       " {'BronxNY'},\n",
       " {'Ireland'},\n",
       " {'Spain'},\n",
       " {'RotterdamNetherlands'},\n",
       " {'SwedenJolietIL'},\n",
       " {'KrakuddenSwedenMouneIL'},\n",
       " {'MinneapolisMN'},\n",
       " {'UnionHillNJ'},\n",
       " {'GlasgowBangorME'},\n",
       " {'sex'},\n",
       " {'KarbergSwedenJeromeJunctionAZ'},\n",
       " {'ChelseaLondon'},\n",
       " {'CornwallAkronOH'},\n",
       " {'BallydehobCoCorkIrelandNewYorkNY'},\n",
       " {'EffingtonRutSD'},\n",
       " {'DenverCO'},\n",
       " {'ClevedonEngland'},\n",
       " {'3rd'},\n",
       " {'ParisFranceNewYorkNY'},\n",
       " {'HarrowEngland'},\n",
       " {'alive'},\n",
       " {'WimbledonParkLondonHaylingIslandHants'},\n",
       " {'ElkinsParkPA'},\n",
       " {'BromsgroveEnglandMontrealPQ'},\n",
       " {'AntwerpBelgiumStantonOH'},\n",
       " {'StAndrewsGuernsey'},\n",
       " {'BournemouthEnglandNewarkNJ'},\n",
       " {'StLeonardsonSeaEnglandOhio'},\n",
       " {'DuluthMN'},\n",
       " {'LiverpoolMontrealPQ'},\n",
       " {'Croatia'},\n",
       " {'TreherbertCardiffWales'},\n",
       " {'BostonMA'},\n",
       " {'BergenNorway'},\n",
       " {'CambridgeMA'},\n",
       " {'IndiaPittsburghPA'},\n",
       " {'SanFranciscoCA'},\n",
       " {\"StAnne'sonSeaLancashire\"},\n",
       " {'CatfordKentDetroitMI'},\n",
       " {'SyriaKentON'},\n",
       " {'WestHavenCT'},\n",
       " {'2nd'},\n",
       " {'IsleworthEngland'},\n",
       " {'WestBromwichEnglandPontiacMI'},\n",
       " {'SwedenArlingtonNJ'},\n",
       " {'FrankfortKY'},\n",
       " {'HaverfordPA'},\n",
       " {'CooperstownNY'},\n",
       " {'BrightonMA'},\n",
       " {'LondonMiddlesex'},\n",
       " {'AscotBerkshireRochesterNY'},\n",
       " {'StIvesCornwallHancockMI'},\n",
       " {'StIvesCornwallHoughtonMI'},\n",
       " {'AustriaNiagaraFallsNY'},\n",
       " {'DorchesterMA'},\n",
       " {'KilmacowenCoSligoIrelandNewYorkNY'},\n",
       " {'BelgiumMontrealPQ'},\n",
       " {'NorwichNewYorkNY'},\n",
       " {'StroodKentEnglandDetroitMI'},\n",
       " {'LondonSkantealesNY'},\n",
       " {'JanjgirIndiaPennsylvania'},\n",
       " {'CornwallSpokaneWA'},\n",
       " {'WorcesterEngland'},\n",
       " {'IndianapolisIN'}]"
      ]
     },
     "execution_count": 23,
     "metadata": {},
     "output_type": "execute_result"
    }
   ],
   "source": [
    "# décommenter les lignes suivantes:\n",
    "\n",
    "print(\"Pour la BASE Titanic :\")\n",
    "noms_items(Base_titanic)\n",
    "\n",
    "print(\"Exemple: singletons(Base_titanic) rend :\")\n",
    "singletons(Base_titanic)"
   ]
  },
  {
   "cell_type": "code",
   "execution_count": 24,
   "metadata": {},
   "outputs": [
    {
     "name": "stdout",
     "output_type": "stream",
     "text": [
      "({'male', 'dead'}, 0.46963562753036436)\n",
      "({'male', 'Southampton'}, 0.46288798920377866)\n",
      "({'dead', 'Southampton'}, 0.41295546558704455)\n",
      "({'male', 'dead', 'Southampton'}, 0.3684210526315789)\n",
      "({'female', 'alive'}, 0.32388663967611336)\n",
      "({'2nd', 'Southampton'}, 0.30634278002699056)\n",
      "({'alive', 'Southampton'}, 0.2982456140350877)\n",
      "({'female', 'Southampton'}, 0.2483130904183536)\n",
      "({'1st', 'alive'}, 0.23076923076923078)\n",
      "({'male', '1st'}, 0.21997300944669365)\n",
      "({'1st', 'Southampton'}, 0.20917678812415655)\n",
      "({'male', '2nd'}, 0.20647773279352227)\n",
      "({'female', 'alive', 'Southampton'}, 0.203778677462888)\n"
     ]
    }
   ],
   "source": [
    "Lres = apriori(Base_titanic,0.2)\n",
    "\n",
    "# tri sur les valeurs de supports:\n",
    "#print(sorted(Lres, key=lambda data: data[1]))\n",
    "\n",
    "# tri sur la taille des itemsets\n",
    "#print(sorted(Lres, key=lambda data: len(data[0])))\n",
    "\n",
    "for t in sorted(Lres, key=lambda data: data[1],reverse = True):\n",
    "    if len(t[0])>1:\n",
    "        print(t)"
   ]
  },
  {
   "cell_type": "markdown",
   "metadata": {},
   "source": [
    "<font color=\"RED\" size=\"+1\">**[Q]**</font>  Utiliser l'éxécutable <code>apriori</code> pour générer des règles d'association (voir les différentes options en annexe) sur les différentes bases de données fournies. Tester différents seuils (support et confiance). "
   ]
  },
  {
   "cell_type": "code",
   "execution_count": 25,
   "metadata": {},
   "outputs": [
    {
     "name": "stdout",
     "output_type": "stream",
     "text": [
      "./apriori32 - find frequent item sets with the apriori algorithm\n",
      "version 6.17 (2015.02.25)        (c) 1996-2015   Christian Borgelt\n",
      "reading datasets/exemple-1.txt ... [5 item(s), 10 transaction(s)] done [0.00s].\n",
      "building transaction tree ... [12 node(s)] done [0.00s].\n",
      "checking subsets of size 1 2 3 done [0.00s].\n",
      "writing fichier-resultat.out ... [4 rule(s)] done [0.00s].\n"
     ]
    }
   ],
   "source": [
    "!./apriori32 -trs50m2n5 datasets/exemple-1.txt fichier-resultat.out "
   ]
  },
  {
   "cell_type": "markdown",
   "metadata": {},
   "source": [
    "c <- a b (50, 80)  \n",
    "b <- a (60, 83.3333)  \n",
    "c <- b (70, 85.7143)  \n",
    "b <- c (70, 85.7143)"
   ]
  },
  {
   "cell_type": "code",
   "execution_count": 26,
   "metadata": {},
   "outputs": [
    {
     "name": "stdout",
     "output_type": "stream",
     "text": [
      "./apriori32 - find frequent item sets with the apriori algorithm\r\n",
      "version 6.17 (2015.02.25)        (c) 1996-2015   Christian Borgelt\r\n",
      "reading datasets/base_td.txt ... [5 item(s), 10 transaction(s)] done [0.00s].\r\n",
      "building transaction tree ... [14 node(s)] done [0.00s].\r\n",
      "checking subsets of size 1 2 3 done [0.00s].\r\n",
      "writing fichier-resultat.out ... [5 rule(s)] done [0.00s].\r\n"
     ]
    }
   ],
   "source": [
    "!./apriori32 -trs50m2n5 datasets/base_td.txt fichier-resultat.out "
   ]
  },
  {
   "cell_type": "markdown",
   "metadata": {},
   "source": [
    "d <- c (50, 80)  \n",
    "e <- a (50, 80)  \n",
    "d <- a (50, 80)  \n",
    "d <- e (60, 100)  \n",
    "d <- b (70, 85.7143)  "
   ]
  },
  {
   "cell_type": "code",
   "execution_count": 27,
   "metadata": {},
   "outputs": [
    {
     "name": "stdout",
     "output_type": "stream",
     "text": [
      "./apriori32 - find frequent item sets with the apriori algorithm\r\n",
      "version 6.17 (2015.02.25)        (c) 1996-2015   Christian Borgelt\r\n",
      "reading datasets/titanic-red.csv ... [378 item(s), 741 transaction(s)] done [0.00s].\r\n",
      "building transaction tree ... [9 node(s)] done [0.00s].\r\n",
      "checking subsets of size 1 2 done [0.00s].\r\n",
      "writing fichier-resultat.out ... [1 rule(s)] done [0.00s].\r\n"
     ]
    }
   ],
   "source": [
    "!./apriori32 -trs50m2n5 datasets/titanic-red.csv fichier-resultat.out "
   ]
  },
  {
   "cell_type": "markdown",
   "metadata": {},
   "source": [
    "male <- dead (53.4413, 87.8788)"
   ]
  },
  {
   "cell_type": "code",
   "execution_count": 28,
   "metadata": {},
   "outputs": [
    {
     "name": "stdout",
     "output_type": "stream",
     "text": [
      "./apriori32 - find frequent item sets with the apriori algorithm\r\n",
      "version 6.17 (2015.02.25)        (c) 1996-2015   Christian Borgelt\r\n",
      "reading datasets/mushrooms.txt ... [70 item(s), 8416 transaction(s)] done [0.01s].\r\n",
      "building transaction tree ... [450 node(s)] done [0.00s].\r\n",
      "checking subsets of size 1 2 3 4 5 done [0.00s].\r\n",
      "writing fichier-resultat.out ... [420 rule(s)] done [0.00s].\r\n"
     ]
    }
   ],
   "source": [
    "!./apriori32 -trs50m2n5 datasets/mushrooms.txt fichier-resultat.out "
   ]
  },
  {
   "cell_type": "markdown",
   "metadata": {},
   "source": [
    "<font color=\"RED\" size=\"+1\">**[Q]**</font>   Ajouter les deux mesures d'intérêt vues en TD (lift et RR) et afficher leurs valeurs pour chaque règle trouvée. Ajouter un argument au programme afin de pouvoir sélectionner une de ces mesures pour éliminer les règles inintéressantes.\n"
   ]
  },
  {
   "cell_type": "markdown",
   "metadata": {},
   "source": [
    "<font color=\"BLUE\"> Nous n'avons pas trouvé la métrique RR et n'avons pas réussi à afficher la valeur de la mesure du lift </font>"
   ]
  },
  {
   "cell_type": "code",
   "execution_count": 29,
   "metadata": {},
   "outputs": [
    {
     "name": "stdout",
     "output_type": "stream",
     "text": [
      "./apriori32 - find frequent item sets with the apriori algorithm\r\n",
      "version 6.17 (2015.02.25)        (c) 1996-2015   Christian Borgelt\r\n",
      "reading datasets/exemple-1.txt ... [5 item(s), 10 transaction(s)] done [0.00s].\r\n",
      "building transaction tree ... [12 node(s)] done [0.00s].\r\n",
      "checking subsets of size 1 2 3 done [0.00s].\r\n",
      "writing fichier-resultat.out ... [4 rule(s)] done [0.00s].\r\n"
     ]
    }
   ],
   "source": [
    "!./apriori32 -trs50m2n5 -el datasets/exemple-1.txt fichier-resultat.out "
   ]
  },
  {
   "cell_type": "markdown",
   "metadata": {},
   "source": [
    "<font color=\"RED\" size=\"+1\">**[Q]**</font>  Ajouter les deux mesures d'intérêt suivantes et afficher leurs valeurs\n",
    "  pour chaque règle trouvée. Ajouter un argument au programme afin de pouvoir sélectionner une de ces mesures pour éliminer les règles inintéressantes.\n",
    "  \n",
    "Par exemple:\n",
    "\n",
    "\\begin{align}\n",
    "  \\mbox{Interest}(X \\longrightarrow Y) & =  \\frac{P(X,Y)}{P(X)}P(Y) \\nonumber\\\\\n",
    " \\mbox{IS}(X \\longrightarrow Y) & =  \\frac{P(X,Y)}{\\sqrt{P(X)P(Y)}} \\nonumber\n",
    "\\end{align}"
   ]
  },
  {
   "cell_type": "code",
   "execution_count": 30,
   "metadata": {},
   "outputs": [
    {
     "name": "stdout",
     "output_type": "stream",
     "text": [
      "./apriori32 - find frequent item sets with the apriori algorithm\r\n",
      "version 6.17 (2015.02.25)        (c) 1996-2015   Christian Borgelt\r\n",
      "reading datasets/exemple-1.txt ... [5 item(s), 10 transaction(s)] done [0.00s].\r\n",
      "building transaction tree ... [12 node(s)] done [0.00s].\r\n",
      "checking subsets of size 1 2 3 done [0.00s].\r\n",
      "writing fichier-resultat.out ... [4 rule(s)] done [0.00s].\r\n"
     ]
    }
   ],
   "source": [
    "!./apriori32 -trs50m2n5el  datasets/exemple-1.txt fichier-resultat.out "
   ]
  },
  {
   "cell_type": "markdown",
   "metadata": {},
   "source": [
    "### Utilisation de fp-growth"
   ]
  },
  {
   "cell_type": "markdown",
   "metadata": {},
   "source": [
    "<font color=\"RED\" size=\"+1\">**[Q]**</font>   Utiliser <code>fpgrowth</code> pour générer des règles d'association sur les différentes\n",
    "  bases de données. Comparer avec les résultats obtenus dans la section précédente. En  particulier, comparer les temps d'éxecution."
   ]
  },
  {
   "cell_type": "code",
   "execution_count": 32,
   "metadata": {},
   "outputs": [
    {
     "name": "stdout",
     "output_type": "stream",
     "text": [
      "./fpgrowth32 - find frequent item sets with the fpgrowth algorithm\r\n",
      "version 6.5 (2015.02.25)         (c) 2004-2014   Christian Borgelt\r\n",
      "reading datasets/exemple-1.txt ... [5 item(s), 10 transaction(s)] done [0.00s].\r\n",
      "filtering, sorting and recoding items ... [4 item(s)] done [0.00s].\r\n",
      "sorting and reducing transactions ... [8/10 transaction(s)] done [0.00s].\r\n",
      "finding frequent item set(s) ... done [0.00s].\r\n",
      "writing fichier-resultat.out ... [4 rule(s)] done [0.00s].\r\n"
     ]
    }
   ],
   "source": [
    "!./fpgrowth32 -trs50m2n5 datasets/exemple-1.txt fichier-resultat.out "
   ]
  },
  {
   "cell_type": "markdown",
   "metadata": {},
   "source": [
    "b <- c (70, 85.7143)  \n",
    "c <- b (70, 85.7143)  \n",
    "b <- a (60, 83.3333)  \n",
    "c <- a b (50, 80)"
   ]
  },
  {
   "cell_type": "code",
   "execution_count": 33,
   "metadata": {},
   "outputs": [
    {
     "name": "stdout",
     "output_type": "stream",
     "text": [
      "./fpgrowth32 - find frequent item sets with the fpgrowth algorithm\r\n",
      "version 6.5 (2015.02.25)         (c) 2004-2014   Christian Borgelt\r\n",
      "reading datasets/base_td.txt ... [5 item(s), 10 transaction(s)] done [0.00s].\r\n",
      "filtering, sorting and recoding items ... [5 item(s)] done [0.00s].\r\n",
      "sorting and reducing transactions ... [9/10 transaction(s)] done [0.00s].\r\n",
      "finding frequent item set(s) ... done [0.00s].\r\n",
      "writing fichier-resultat.out ... [5 rule(s)] done [0.00s].\r\n"
     ]
    }
   ],
   "source": [
    "!./fpgrowth32 -trs50m2n5 datasets/base_td.txt fichier-resultat.out "
   ]
  },
  {
   "cell_type": "markdown",
   "metadata": {},
   "source": [
    "d <- b (70, 85.7143)  \n",
    "d <- e (60, 100)  \n",
    "d <- a (50, 80)  \n",
    "e <- a (50, 80)  \n",
    "d <- c (50, 80)"
   ]
  },
  {
   "cell_type": "code",
   "execution_count": 34,
   "metadata": {},
   "outputs": [
    {
     "name": "stdout",
     "output_type": "stream",
     "text": [
      "./fpgrowth32 - find frequent item sets with the fpgrowth algorithm\r\n",
      "version 6.5 (2015.02.25)         (c) 2004-2014   Christian Borgelt\r\n",
      "reading datasets/titanic-red.csv ... [378 item(s), 741 transaction(s)] done [0.00s].\r\n",
      "filtering, sorting and recoding items ... [4 item(s)] done [0.00s].\r\n",
      "sorting and reducing transactions ... [9/741 transaction(s)] done [0.00s].\r\n",
      "finding frequent item set(s) ... done [0.00s].\r\n",
      "writing fichier-resultat.out ... [1 rule(s)] done [0.00s].\r\n"
     ]
    }
   ],
   "source": [
    "!./fpgrowth32 -trs50m2n5 datasets/titanic-red.csv fichier-resultat.out "
   ]
  },
  {
   "cell_type": "markdown",
   "metadata": {},
   "source": [
    "male <- dead (53.4413, 87.8788)"
   ]
  },
  {
   "cell_type": "code",
   "execution_count": 35,
   "metadata": {},
   "outputs": [
    {
     "name": "stdout",
     "output_type": "stream",
     "text": [
      "./fpgrowth32 - find frequent item sets with the fpgrowth algorithm\r\n",
      "version 6.5 (2015.02.25)         (c) 2004-2014   Christian Borgelt\r\n",
      "reading datasets/mushrooms.txt ... [70 item(s), 8416 transaction(s)] done [0.02s].\r\n",
      "filtering, sorting and recoding items ... [20 item(s)] done [0.00s].\r\n",
      "sorting and reducing transactions ... [198/8416 transaction(s)] done [0.00s].\r\n",
      "finding frequent item set(s) ... done [0.00s].\r\n",
      "writing fichier-resultat.out ... [420 rule(s)] done [0.00s].\r\n"
     ]
    }
   ],
   "source": [
    "!./fpgrowth32 -trs50m2n5 datasets/mushrooms.txt fichier-resultat.out "
   ]
  },
  {
   "cell_type": "markdown",
   "metadata": {},
   "source": [
    "Sur ces jeux de données les temps d'exécutions sont équivalents pour les algorithmes  apriori et fpgrowth."
   ]
  },
  {
   "cell_type": "markdown",
   "metadata": {},
   "source": [
    "<font color=\"RED\" size=\"+1\">**[Q]**</font>  En essayant différentes valeurs de seuil, tester la génération de règles d'association intéressantes sur les bases de données fournies."
   ]
  },
  {
   "cell_type": "code",
   "execution_count": 40,
   "metadata": {},
   "outputs": [
    {
     "name": "stdout",
     "output_type": "stream",
     "text": [
      "./fpgrowth32 - find frequent item sets with the fpgrowth algorithm\r\n",
      "version 6.5 (2015.02.25)         (c) 2004-2014   Christian Borgelt\r\n",
      "reading datasets/mushrooms.txt ... [70 item(s), 8416 transaction(s)] done [0.01s].\r\n",
      "filtering, sorting and recoding items ... [20 item(s)] done [0.00s].\r\n",
      "sorting and reducing transactions ... [198/8416 transaction(s)] done [0.00s].\r\n",
      "finding frequent item set(s) ... done [0.00s].\r\n",
      "writing fichier-resultat.out ... [420 rule(s)] done [0.00s].\r\n"
     ]
    }
   ],
   "source": [
    "!./fpgrowth32 -trs50m2n5 -d0.5 datasets/mushrooms.txt fichier-resultat.out "
   ]
  },
  {
   "cell_type": "code",
   "execution_count": 41,
   "metadata": {},
   "outputs": [
    {
     "name": "stdout",
     "output_type": "stream",
     "text": [
      "./fpgrowth32 - find frequent item sets with the fpgrowth algorithm\r\n",
      "version 6.5 (2015.02.25)         (c) 2004-2014   Christian Borgelt\r\n",
      "reading datasets/mushrooms.txt ... [70 item(s), 8416 transaction(s)] done [0.01s].\r\n",
      "filtering, sorting and recoding items ... [20 item(s)] done [0.00s].\r\n",
      "sorting and reducing transactions ... [198/8416 transaction(s)] done [0.00s].\r\n",
      "finding frequent item set(s) ... done [0.00s].\r\n",
      "writing fichier-resultat.out ... [420 rule(s)] done [0.00s].\r\n"
     ]
    }
   ],
   "source": [
    "!./fpgrowth32 -trs50m2n5 -d0.75 datasets/mushrooms.txt fichier-resultat.out "
   ]
  },
  {
   "cell_type": "code",
   "execution_count": 42,
   "metadata": {},
   "outputs": [
    {
     "name": "stdout",
     "output_type": "stream",
     "text": [
      "./fpgrowth32 - find frequent item sets with the fpgrowth algorithm\r\n",
      "version 6.5 (2015.02.25)         (c) 2004-2014   Christian Borgelt\r\n",
      "reading datasets/mushrooms.txt ... [70 item(s), 8416 transaction(s)] done [0.02s].\r\n",
      "filtering, sorting and recoding items ... [20 item(s)] done [0.00s].\r\n",
      "sorting and reducing transactions ... [198/8416 transaction(s)] done [0.00s].\r\n",
      "finding frequent item set(s) ... done [0.00s].\r\n",
      "writing fichier-resultat.out ... [420 rule(s)] done [0.00s].\r\n"
     ]
    }
   ],
   "source": [
    "!./fpgrowth32 -trs50m2n5 -d0.25 datasets/mushrooms.txt fichier-resultat.out "
   ]
  },
  {
   "cell_type": "code",
   "execution_count": 43,
   "metadata": {},
   "outputs": [
    {
     "name": "stdout",
     "output_type": "stream",
     "text": [
      "./fpgrowth32 - find frequent item sets with the fpgrowth algorithm\r\n",
      "version 6.5 (2015.02.25)         (c) 2004-2014   Christian Borgelt\r\n",
      "reading datasets/mushrooms.txt ... [70 item(s), 8416 transaction(s)] done [0.02s].\r\n",
      "filtering, sorting and recoding items ... [20 item(s)] done [0.00s].\r\n",
      "sorting and reducing transactions ... [198/8416 transaction(s)] done [0.00s].\r\n",
      "finding frequent item set(s) ... done [0.00s].\r\n",
      "writing fichier-resultat.out ... [420 rule(s)] done [0.00s].\r\n"
     ]
    }
   ],
   "source": [
    "!./fpgrowth32 -trs50m2n5 -d0.01 datasets/mushrooms.txt fichier-resultat.out "
   ]
  },
  {
   "cell_type": "code",
   "execution_count": 44,
   "metadata": {},
   "outputs": [
    {
     "name": "stdout",
     "output_type": "stream",
     "text": [
      "./fpgrowth32 - find frequent item sets with the fpgrowth algorithm\r\n",
      "version 6.5 (2015.02.25)         (c) 2004-2014   Christian Borgelt\r\n",
      "reading datasets/mushrooms.txt ... [70 item(s), 8416 transaction(s)] done [0.02s].\r\n",
      "filtering, sorting and recoding items ... [20 item(s)] done [0.00s].\r\n",
      "sorting and reducing transactions ... [198/8416 transaction(s)] done [0.00s].\r\n",
      "finding frequent item set(s) ... done [0.00s].\r\n",
      "writing fichier-resultat.out ... [420 rule(s)] done [0.00s].\r\n"
     ]
    }
   ],
   "source": [
    "!./fpgrowth32 -trs50m2n5 -d0.99 datasets/mushrooms.txt fichier-resultat.out "
   ]
  },
  {
   "cell_type": "markdown",
   "metadata": {},
   "source": [
    "## Annexes: utilisation des exécutables *apriori* et *fpgrowth*\n",
    "\n",
    "La documentation complète de ces programmes est disponible aux URL suivantes:\n",
    "- pour *apriori*: https://www.borgelt.net/doc/apriori/apriori.html\n",
    "- pour *fp-growth*: https://www.borgelt.net/doc/fpgrowth/fpgrowth.html\n",
    "\n",
    "\n",
    "Leur format d'utilisation général est:\n",
    "\n",
    "        ./<programme> [options] infile [outfile]\n",
    "\n",
    "(où <<code>programme</code>> est soit *apriori*, soit *fpgrowth*).\n",
    "\n",
    "Les options de base de ces 2 programmes sont:\n",
    "- sans argument: génération des itemsets fréquents (argument {<code>-ts</code> activé par défaut)\n",
    "- *tr*: pour obtenir les règles d'associations\n",
    "- *s*: pour fournir une valeur minimale de support. Le support est ici donné en valeur absolue ($n_{AB}$) et non pas en valeur relative ($\\frac{n_{AB}}{n}$).\n",
    "- *m*: pour fournir un nombre minimum d'items dans un itemset\n",
    "- *n*: pour fournir un nombre maximum d'items dans un itemset\n",
    "\n",
    "\n",
    "Par exemple (commandes lancées dans le répertoire père du répertoire *datasets/*):\n",
    "\n",
    "        ./apriori -trs50m2n5 datasets/exemple-1.txt fichier-resultat.out  \n",
    "        ./fpgrowth -trs50m2n5 datasets/mushrooms.txt fichier-resultat.out  \n"
   ]
  }
 ],
 "metadata": {
  "kernelspec": {
   "display_name": "Python 3 (ipykernel)",
   "language": "python",
   "name": "python3"
  },
  "language_info": {
   "codemirror_mode": {
    "name": "ipython",
    "version": 3
   },
   "file_extension": ".py",
   "mimetype": "text/x-python",
   "name": "python",
   "nbconvert_exporter": "python",
   "pygments_lexer": "ipython3",
   "version": "3.9.2"
  }
 },
 "nbformat": 4,
 "nbformat_minor": 1
}
